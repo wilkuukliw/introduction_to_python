{
 "cells": [
  {
   "cell_type": "markdown",
   "metadata": {
    "toc": true
   },
   "source": [
    "<h1>Working With JSON Data in Python<span class=\"tocSkip\"></span></h1>\n",
    "<div class=\"toc\"><ul class=\"toc-item\"><li><span><a href=\"#Reading-JSON\" data-toc-modified-id=\"Reading-JSON-1\"><span class=\"toc-item-num\">1&nbsp;&nbsp;</span>Reading JSON</a></span><ul class=\"toc-item\"><li><span><a href=\"#json.load\" data-toc-modified-id=\"json.load-1.1\"><span class=\"toc-item-num\">1.1&nbsp;&nbsp;</span>json.load</a></span></li><li><span><a href=\"#json.loads\" data-toc-modified-id=\"json.loads-1.2\"><span class=\"toc-item-num\">1.2&nbsp;&nbsp;</span>json.loads</a></span></li></ul></li><li><span><a href=\"#Writing-JSON\" data-toc-modified-id=\"Writing-JSON-2\"><span class=\"toc-item-num\">2&nbsp;&nbsp;</span>Writing JSON</a></span><ul class=\"toc-item\"><li><span><a href=\"#json.dumps\" data-toc-modified-id=\"json.dumps-2.1\"><span class=\"toc-item-num\">2.1&nbsp;&nbsp;</span>json.dumps</a></span></li><li><span><a href=\"#json.dump\" data-toc-modified-id=\"json.dump-2.2\"><span class=\"toc-item-num\">2.2&nbsp;&nbsp;</span>json.dump</a></span></li></ul></li><li><span><a href=\"#10-minutes-exercise\" data-toc-modified-id=\"10-minutes-exercise-3\"><span class=\"toc-item-num\">3&nbsp;&nbsp;</span>10 minutes exercise</a></span></li></ul></div>"
   ]
  },
  {
   "cell_type": "markdown",
   "metadata": {},
   "source": [
    "https://realpython.com/python-json/\n",
    "https://docs.python.org/3/library/json.html"
   ]
  },
  {
   "cell_type": "markdown",
   "metadata": {},
   "source": [
    "## Reading JSON"
   ]
  },
  {
   "cell_type": "code",
   "execution_count": 41,
   "metadata": {},
   "outputs": [],
   "source": [
    "import json"
   ]
  },
  {
   "cell_type": "markdown",
   "metadata": {},
   "source": [
    "### json.load\n",
    "Reads from a file path"
   ]
  },
  {
   "cell_type": "code",
   "execution_count": 33,
   "metadata": {},
   "outputs": [
    {
     "name": "stdout",
     "output_type": "stream",
     "text": [
      "[{'animal': {'name': 'Henning', 'species': 'House Cat', 'relatives': [{'name': 'Fluffy', 'species': 'Norwegian Forrest'}]}}, {'animal': {'name': 'Fido', 'species': 'Dog', 'relatives': [{'name': 'Jeff', 'species': 'Puddle'}, {'name': 'Minna', 'species': 'Labrador'}]}}]\n"
     ]
    }
   ],
   "source": [
    "with open('testfiles/animals.json', 'r') as f:\n",
    "    json_list = json.load(f)  \n",
    "\n",
    "print(json_list)"
   ]
  },
  {
   "cell_type": "code",
   "execution_count": 34,
   "metadata": {},
   "outputs": [
    {
     "data": {
      "text/plain": [
       "['Henning', 'Fido']"
      ]
     },
     "execution_count": 34,
     "metadata": {},
     "output_type": "execute_result"
    }
   ],
   "source": [
    "[i['animal']['name'] for i in json_list]"
   ]
  },
  {
   "cell_type": "markdown",
   "metadata": {},
   "source": [
    "### json.loads\n",
    "Reads the content of the file"
   ]
  },
  {
   "cell_type": "code",
   "execution_count": 35,
   "metadata": {},
   "outputs": [
    {
     "name": "stdout",
     "output_type": "stream",
     "text": [
      "[{'animal': {'name': 'Henning', 'species': 'House Cat', 'relatives': [{'name': 'Fluffy', 'species': 'Norwegian Forrest'}]}}, {'animal': {'name': 'Fido', 'species': 'Dog', 'relatives': [{'name': 'Jeff', 'species': 'Puddle'}, {'name': 'Minna', 'species': 'Labrador'}]}}]\n"
     ]
    }
   ],
   "source": [
    "with open('testfiles/animals.json', 'r') as f:\n",
    "    txt = f.read()\n",
    "    js = json.loads(txt)\n",
    "    \n",
    "print(js)"
   ]
  },
  {
   "cell_type": "code",
   "execution_count": 36,
   "metadata": {},
   "outputs": [
    {
     "data": {
      "text/plain": [
       "[[{'name': 'Fluffy', 'species': 'Norwegian Forrest'}],\n",
       " [{'name': 'Jeff', 'species': 'Puddle'},\n",
       "  {'name': 'Minna', 'species': 'Labrador'}]]"
      ]
     },
     "execution_count": 36,
     "metadata": {},
     "output_type": "execute_result"
    }
   ],
   "source": [
    "[i['animal']['relatives'] for i in js]"
   ]
  },
  {
   "cell_type": "markdown",
   "metadata": {},
   "source": [
    "## Writing JSON"
   ]
  },
  {
   "cell_type": "markdown",
   "metadata": {},
   "source": [
    "### json.dumps\n",
    "Serialize obj to a JSON formatted str"
   ]
  },
  {
   "cell_type": "code",
   "execution_count": 39,
   "metadata": {},
   "outputs": [],
   "source": [
    "dict = {'name' : 'Claus', 'age' : 120}\n",
    "with open('testfiles/students.json', 'w') as f:\n",
    "    js =json.dumps(dict)\n",
    "    f.write(js)"
   ]
  },
  {
   "cell_type": "code",
   "execution_count": 40,
   "metadata": {},
   "outputs": [
    {
     "name": "stdout",
     "output_type": "stream",
     "text": [
      "{'name': 'Claus', 'age': 120}\n"
     ]
    }
   ],
   "source": [
    "with open('testfiles/students.json', 'r') as f:\n",
    "    js = json.load(f)  \n",
    "print(js)"
   ]
  },
  {
   "cell_type": "markdown",
   "metadata": {},
   "source": [
    "### json.dump\n",
    "Serialize obj as a JSON formatted stream to fp (a .write()-supporting file-like object)"
   ]
  },
  {
   "cell_type": "code",
   "execution_count": 37,
   "metadata": {},
   "outputs": [],
   "source": [
    "from io import StringIO\n",
    "io = StringIO()\n",
    "teachers = [{'name' : 'Claus', 'age' : 120}, {}]\n",
    "with open('testfiles/teachers.json', 'w') as f:\n",
    "    json.dump(dict, io)\n",
    "    f.write(io.getvalue())"
   ]
  },
  {
   "cell_type": "code",
   "execution_count": 38,
   "metadata": {},
   "outputs": [
    {
     "name": "stdout",
     "output_type": "stream",
     "text": [
      "{'name': 'Claus', 'age': 120}\n"
     ]
    }
   ],
   "source": [
    "with open('testfiles/teachers.json', 'r') as f:\n",
    "    js = json.load(f)  \n",
    "print(js)"
   ]
  },
  {
   "cell_type": "markdown",
   "metadata": {},
   "source": [
    "## 10 minutes exercise "
   ]
  },
  {
   "cell_type": "markdown",
   "metadata": {},
   "source": [
    "1. From this api https://api.github.com/orgs/python-elective-fall-2019/repos get all names of the repos and write them to a text file.  \n",
    "\n",
    "2. Get all filenames of files ending with **.ipynb** in the **code_examples** folder in the Lesson-09-context-managers repository. "
   ]
  },
  {
   "cell_type": "code",
   "execution_count": null,
   "metadata": {},
   "outputs": [],
   "source": []
  }
 ],
 "metadata": {
  "kernelspec": {
   "display_name": "Python 3",
   "language": "python",
   "name": "python3"
  },
  "language_info": {
   "codemirror_mode": {
    "name": "ipython",
    "version": 3
   },
   "file_extension": ".py",
   "mimetype": "text/x-python",
   "name": "python",
   "nbconvert_exporter": "python",
   "pygments_lexer": "ipython3",
   "version": "3.7.4"
  },
  "toc": {
   "base_numbering": 1,
   "nav_menu": {},
   "number_sections": true,
   "sideBar": true,
   "skip_h1_title": true,
   "title_cell": "Working With JSON Data in Python",
   "title_sidebar": "Contents",
   "toc_cell": true,
   "toc_position": {},
   "toc_section_display": true,
   "toc_window_display": false
  }
 },
 "nbformat": 4,
 "nbformat_minor": 2
}
