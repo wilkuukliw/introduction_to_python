{
 "cells": [
  {
   "cell_type": "markdown",
   "metadata": {},
   "source": [
    "# Connect and use an SQLite database"
   ]
  },
  {
   "cell_type": "markdown",
   "metadata": {},
   "source": [
    "## Create, insert and read"
   ]
  },
  {
   "cell_type": "code",
   "execution_count": 18,
   "metadata": {},
   "outputs": [
    {
     "name": "stdout",
     "output_type": "stream",
     "text": [
      "(1, 'Claus', '223344-5566')\n",
      "(2, 'Julie', '111111-1111')\n",
      "(3, 'Hannah', '222222-2222')\n"
     ]
    }
   ],
   "source": [
    "from sqlite3 import connect\n",
    "\n",
    "with connect('testfiles/school.db') as conn:\n",
    "    cur = conn.cursor()\n",
    "    cur.execute('CREATE TABLE students(id int PRIMARY KEY, name text, cpr text)')\n",
    "    cur.execute('INSERT INTO students(id, name, cpr) VALUES (1, \"Claus\", \"223344-5566\")')\n",
    "    cur.execute('INSERT INTO students(id, name, cpr) VALUES (2, \"Julie\", \"111111-1111\")')\n",
    "    cur.execute('INSERT INTO students(id, name, cpr) VALUES (3, \"Hannah\", \"222222-2222\")')\n",
    "    for i in cur.execute('SELECT * FROM students'):\n",
    "        print(i)\n",
    "        \n",
    "    cur.execute('DROP TABLE students')"
   ]
  },
  {
   "cell_type": "markdown",
   "metadata": {},
   "source": [
    "A more low level description can be found [here](https://www.sqlitetutorial.net/sqlite-python/creating-database/)"
   ]
  },
  {
   "cell_type": "markdown",
   "metadata": {},
   "source": [
    "## 10 minutes exercise"
   ]
  },
  {
   "cell_type": "markdown",
   "metadata": {},
   "source": [
    "1. Create a zoo database with a table animal. Insert some animals, update the information, and delete som animals\n",
    "2. Add a table 'animal_groups'. Relate the animal table to the animal_groups table.  "
   ]
  },
  {
   "cell_type": "code",
   "execution_count": null,
   "metadata": {},
   "outputs": [],
   "source": []
  }
 ],
 "metadata": {
  "kernelspec": {
   "display_name": "Python 3",
   "language": "python",
   "name": "python3"
  },
  "language_info": {
   "codemirror_mode": {
    "name": "ipython",
    "version": 3
   },
   "file_extension": ".py",
   "mimetype": "text/x-python",
   "name": "python",
   "nbconvert_exporter": "python",
   "pygments_lexer": "ipython3",
   "version": "3.7.4"
  },
  "toc": {
   "base_numbering": 1,
   "nav_menu": {},
   "number_sections": true,
   "sideBar": true,
   "skip_h1_title": true,
   "title_cell": "Connect and use an SQLite database",
   "title_sidebar": "Contents",
   "toc_cell": false,
   "toc_position": {},
   "toc_section_display": true,
   "toc_window_display": false
  }
 },
 "nbformat": 4,
 "nbformat_minor": 2
}
