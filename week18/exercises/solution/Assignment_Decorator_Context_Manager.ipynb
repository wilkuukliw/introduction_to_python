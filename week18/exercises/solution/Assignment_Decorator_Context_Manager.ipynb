{
 "cells": [
  {
   "cell_type": "markdown",
   "metadata": {},
   "source": [
    "# (Solution) Decorator / Context Manager"
   ]
  },
  {
   "cell_type": "markdown",
   "metadata": {},
   "source": [
    "Create a simple function that prints the paramenters value to console."
   ]
  },
  {
   "cell_type": "code",
   "execution_count": 77,
   "metadata": {},
   "outputs": [
    {
     "name": "stdout",
     "output_type": "stream",
     "text": [
      "('Honey Im home!', 'A car is a car until ...')\n"
     ]
    }
   ],
   "source": [
    "def quotes(*args):\n",
    "    for _ in args:\n",
    "        print(_)\n",
    "\n",
    "quotes(('Honey Im home!', 'A car is a car until ...'))"
   ]
  },
  {
   "cell_type": "markdown",
   "metadata": {},
   "source": [
    "> You should decorate this function so it can get its quotes from:\n",
    "\n",
    "> 1. a text file\n",
    "> 2. a csv file\n",
    "> 3. a json file\n",
    "> 4. a SQlite databs"
   ]
  },
  {
   "cell_type": "markdown",
   "metadata": {},
   "source": [
    "### Solution text file"
   ]
  },
  {
   "cell_type": "code",
   "execution_count": 84,
   "metadata": {},
   "outputs": [
    {
     "name": "stdout",
     "output_type": "stream",
     "text": [
      "An expert is a person who has made all the mistakes that can be made in a very narrow field.\r\n",
      "Prediction is very difficult, especially about the future.\r\n",
      "Those who are not shocked when they first come across quantum theory cannot possibly have understood it."
     ]
    }
   ],
   "source": [
    "!cat testfiles/bohr.txt\n",
    "# The content of bohr.txt"
   ]
  },
  {
   "cell_type": "code",
   "execution_count": 100,
   "metadata": {},
   "outputs": [],
   "source": [
    "def text_file_decorator(func):\n",
    "    def inner(*args):\n",
    "        with open('testfiles/bohr.txt', 'r') as f:\n",
    "            func(''.join(f.readlines())) # or *list -> list unpacking\n",
    "    return inner\n"
   ]
  },
  {
   "cell_type": "markdown",
   "metadata": {},
   "source": [
    "### Solution csv file"
   ]
  },
  {
   "cell_type": "code",
   "execution_count": 86,
   "metadata": {},
   "outputs": [
    {
     "name": "stdout",
     "output_type": "stream",
     "text": [
      "id, quote, author\r\n",
      "1, An expert is a person who has made all the mistakes that can be made in a very narrow field., bohr\r\n",
      "2, Prediction is very difficult, especially about the future., bohr\r\n",
      "3, Those who are not shocked when they first come across quantum theory cannot possibly have understood it., bohr"
     ]
    }
   ],
   "source": [
    "!cat testfiles/bohr.csv\n",
    "# The content of bohr.csv"
   ]
  },
  {
   "cell_type": "code",
   "execution_count": 97,
   "metadata": {},
   "outputs": [],
   "source": [
    "import csv\n",
    "def csv_decorator(func):\n",
    "    def inner(*args):\n",
    "        with open('testfiles/bohr.csv', 'r') as f:\n",
    "            csv_r = csv.reader(f, delimiter=',')\n",
    "            next(csv_r)                            # skip first row\n",
    "            func(*[row[1] for row in csv_r])       # get content column, and unpack list\n",
    "    return inner"
   ]
  },
  {
   "cell_type": "markdown",
   "metadata": {},
   "source": [
    "### Solution JSON"
   ]
  },
  {
   "cell_type": "code",
   "execution_count": 7,
   "metadata": {},
   "outputs": [
    {
     "name": "stdout",
     "output_type": "stream",
     "text": [
      "[{\"quote\": \"An expert is a person who has made all the mistakes that can be made in a very narrow field.\"}, {\"quote\": \"Prediction is very difficult, especially about the future.\"}, {\"quote\": \"Those who are not shocked when they first come across quantum theory cannot possibly have understood it.\"}]"
     ]
    }
   ],
   "source": [
    "!cat testfiles/bohr.json\n",
    "# The content of bohr.json"
   ]
  },
  {
   "cell_type": "code",
   "execution_count": 14,
   "metadata": {},
   "outputs": [],
   "source": [
    "import json\n",
    "\n",
    "def json_decorator(func):\n",
    "    def inner(*args):\n",
    "        with open('testfiles/bohr.json', 'r') as f:\n",
    "            txt = f.read()\n",
    "            js = json.loads(txt) \n",
    "        func(*[i['quote'] for i in js])\n",
    "    return inner\n"
   ]
  },
  {
   "cell_type": "markdown",
   "metadata": {},
   "source": [
    "## Solution SQlite "
   ]
  },
  {
   "cell_type": "code",
   "execution_count": 86,
   "metadata": {},
   "outputs": [],
   "source": [
    "from sqlite3 import connect\n",
    "# create db \n",
    "def conn():\n",
    "    with connect('testfiles/bohr.db') as conn:\n",
    "        cur = conn.cursor()\n",
    "        cur.execute('DROP TABLE IF EXISTS quotes')\n",
    "        cur.execute('CREATE TABLE quotes(id int PRIMARY KEY, quote text, author text)')\n",
    "        cur.execute('INSERT INTO quotes(id, quote, author) VALUES (1, \"An expert is a person who has made all the mistakes that can be made in a very narrow field.\", \"bohr\")')\n",
    "        cur.execute('INSERT INTO quotes(id, quote, author) VALUES (2, \"Prediction is very difficult, especially about the future.\", \"bohr\")')\n",
    "        cur.execute('INSERT INTO quotes(id, quote, author) VALUES(3, \"Those who are not shocked when they first come across quantum theory cannot possibly have understood it.\", \"bohr\")')\n",
    "        return cur\n",
    "# conn()"
   ]
  },
  {
   "cell_type": "code",
   "execution_count": 87,
   "metadata": {},
   "outputs": [],
   "source": [
    "def sqlite_decorator(func):\n",
    "    def inner(*args):\n",
    "        with connect('testfiles/bohr.db') as conn:\n",
    "            cur = conn.cursor()\n",
    "            func(*(i[0] for i in cur.execute('SELECT quote FROM quotes'))) # result from db is return as rows of tuples. i[0] gives the first element of the tuple\n",
    "    return inner"
   ]
  },
  {
   "cell_type": "markdown",
   "metadata": {},
   "source": [
    "### Original function (now decorated)"
   ]
  },
  {
   "cell_type": "code",
   "execution_count": 105,
   "metadata": {},
   "outputs": [
    {
     "name": "stdout",
     "output_type": "stream",
     "text": [
      "An expert is a person who has made all the mistakes that can be made in a very narrow field.\n",
      "Prediction is very difficult, especially about the future.\n",
      "Those who are not shocked when they first come across quantum theory cannot possibly have understood it.\n"
     ]
    }
   ],
   "source": [
    "#@text_file_decorator\n",
    "#@csv_decorator\n",
    "#@json_decorator\n",
    "@sqlite_decorator\n",
    "def quotes(*args):\n",
    "    for _ in args:\n",
    "        print(_)\n",
    "        \n",
    "quotes('Honey Im home!', 'A car is a car until ...')"
   ]
  },
  {
   "cell_type": "code",
   "execution_count": null,
   "metadata": {},
   "outputs": [],
   "source": []
  }
 ],
 "metadata": {
  "kernelspec": {
   "display_name": "Python 3",
   "language": "python",
   "name": "python3"
  },
  "language_info": {
   "codemirror_mode": {
    "name": "ipython",
    "version": 3
   },
   "file_extension": ".py",
   "mimetype": "text/x-python",
   "name": "python",
   "nbconvert_exporter": "python",
   "pygments_lexer": "ipython3",
   "version": "3.7.5"
  },
  "toc": {
   "base_numbering": 1,
   "nav_menu": {},
   "number_sections": true,
   "sideBar": true,
   "skip_h1_title": true,
   "title_cell": "Table of Contents",
   "title_sidebar": "Contents",
   "toc_cell": false,
   "toc_position": {},
   "toc_section_display": true,
   "toc_window_display": false
  }
 },
 "nbformat": 4,
 "nbformat_minor": 2
}
